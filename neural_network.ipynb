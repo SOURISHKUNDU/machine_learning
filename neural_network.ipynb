{
  "nbformat": 4,
  "nbformat_minor": 0,
  "metadata": {
    "colab": {
      "name": "neural_network.ipynb",
      "provenance": [],
      "authorship_tag": "ABX9TyMVImg6puQNbX1szXi0Hcib",
      "include_colab_link": true
    },
    "kernelspec": {
      "name": "python3",
      "display_name": "Python 3"
    },
    "language_info": {
      "name": "python"
    }
  },
  "cells": [
    {
      "cell_type": "markdown",
      "metadata": {
        "id": "view-in-github",
        "colab_type": "text"
      },
      "source": [
        "<a href=\"https://colab.research.google.com/github/SOURISHKUNDU/machine_learning/blob/main/neural_network.ipynb\" target=\"_parent\"><img src=\"https://colab.research.google.com/assets/colab-badge.svg\" alt=\"Open In Colab\"/></a>"
      ]
    },
    {
      "cell_type": "code",
      "execution_count": null,
      "metadata": {
        "id": "D4eaRMSRS1P1"
      },
      "outputs": [],
      "source": [
        "\n"
      ]
    },
    {
      "cell_type": "markdown",
      "source": [
        "**activation** **function** **definition**"
      ],
      "metadata": {
        "id": "16IujOy_2CU0"
      }
    },
    {
      "cell_type": "code",
      "source": [
        "\n"
      ],
      "metadata": {
        "id": "4Il1t6r51-Ua"
      },
      "execution_count": 2,
      "outputs": []
    },
    {
      "cell_type": "code",
      "source": [
        "import numpy as np\n",
        "import matplotlib.pyplot as plt\n",
        "import pandas as pd\n",
        "def sigmoid(x):\n",
        "  return 1/(1+np.exp(-x))\n",
        "def sigmoid_derivative(x):\n",
        "  return x*(1-x)  \n",
        "training_inputs=np.array([[0,0,1],[1,1,1],[1,0,1],[0,1,1]])\n",
        "training_outputs=np.array([[0,1,1,0]]).T\n",
        "np.random.seed(1)\n",
        "synaptic_weights=2*np.random.random((3,1))-1\n",
        "for epoch in range(1000):\n",
        "  input_layer=training_inputs\n",
        "  outputs=sigmoid(np.dot(input_layer,synaptic_weights))\n",
        "  error=training_outputs-outputs\n",
        "  adjustments=error*sigmoid_derivative(outputs)\n",
        "  synaptic_weights=synaptic_weights+np.dot(input_layer.T,adjustments)\n",
        "print(\"outputs after training\")\n",
        "print(outputs)  "
      ],
      "metadata": {
        "colab": {
          "base_uri": "https://localhost:8080/"
        },
        "id": "7e9_MrQg2STf",
        "outputId": "e184ed60-0c09-47ad-b8cd-5ba6472e574d"
      },
      "execution_count": 14,
      "outputs": [
        {
          "output_type": "stream",
          "name": "stdout",
          "text": [
            "outputs after training\n",
            "[[0.03178421]\n",
            " [0.97414645]\n",
            " [0.97906682]\n",
            " [0.02576499]]\n"
          ]
        }
      ]
    },
    {
      "cell_type": "code",
      "source": [
        ""
      ],
      "metadata": {
        "id": "szCA_ieE3toS"
      },
      "execution_count": null,
      "outputs": []
    }
  ]
}