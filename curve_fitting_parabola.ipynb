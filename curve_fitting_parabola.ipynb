{
  "nbformat": 4,
  "nbformat_minor": 0,
  "metadata": {
    "colab": {
      "name": "Untitled4.ipynb",
      "provenance": [],
      "authorship_tag": "ABX9TyOIE3ArxpFf38f2vBLurR6b",
      "include_colab_link": true
    },
    "kernelspec": {
      "name": "python3",
      "display_name": "Python 3"
    },
    "language_info": {
      "name": "python"
    }
  },
  "cells": [
    {
      "cell_type": "markdown",
      "metadata": {
        "id": "view-in-github",
        "colab_type": "text"
      },
      "source": [
        "<a href=\"https://colab.research.google.com/github/SOURISHKUNDU/machine_learning/blob/main/curve_fitting_parabola.ipynb\" target=\"_parent\"><img src=\"https://colab.research.google.com/assets/colab-badge.svg\" alt=\"Open In Colab\"/></a>"
      ]
    },
    {
      "cell_type": "code",
      "execution_count": 5,
      "metadata": {
        "colab": {
          "base_uri": "https://localhost:8080/",
          "height": 282
        },
        "id": "4jZ9GF4MDjpK",
        "outputId": "f53df041-ae11-4a30-9e16-0281fe843121"
      },
      "outputs": [
        {
          "output_type": "execute_result",
          "data": {
            "text/plain": [
              "<matplotlib.collections.PathCollection at 0x7fbfcb499610>"
            ]
          },
          "metadata": {},
          "execution_count": 5
        },
        {
          "output_type": "display_data",
          "data": {
            "image/png": "[encoded data removed]",
            "text/plain": [
              "<Figure size 432x288 with 1 Axes>"
            ]
          },
          "metadata": {
            "needs_background": "light"
          }
        }
      ],
      "source": [
        "import numpy as np\n",
        "import matplotlib.pyplot as plt\n",
        "import pandas as pd\n",
        "from scipy.optimize import curve_fit\n",
        "x_data = np.array([0.0        , 0.15789474, 0.31578947, 0.47368421, 0.63157895,\n",
        "       0.78947368, 0.94736842, 1.10526316, 1.26315789, 1.42105263,\n",
        "       1.57894737, 1.73684211, 1.89473684, 2.05263158, 2.21052632,\n",
        "       2.36842105, 2.52631579, 2.68421053, 2.84210526, 3.        ])\n",
        "y_data = np.array([  2.95258285,   2.49719803,  -2.1984975 ,  -4.88744346,\n",
        "        -7.41326345,  -8.44574157, -10.01878504, -13.83743553,\n",
        "       -12.91548145, -15.41149046, -14.93516299, -13.42514157,\n",
        "       -14.12110495, -17.6412464 , -16.1275509 , -16.11533771,\n",
        "       -15.66076021, -13.48938865, -11.33918701, -11.70467566])\n",
        "plt.scatter(x_data,y_data)\n"
      ]
    },
    {
      "cell_type": "code",
      "source": [
        "def func(x,a,b,c):\n",
        "  return a*(x-b)**2+c\n",
        "popt,pcov=curve_fit(func,x_data,y_data,p0=[3,2,-16])\n",
        "print(popt)\n",
        "\n",
        "\n"
      ],
      "metadata": {
        "id": "bjQ5Oh3qGYHQ",
        "colab": {
          "base_uri": "https://localhost:8080/"
        },
        "outputId": "c5f997b1-9b2f-46ac-fa9d-f4517a136a80"
      },
      "execution_count": 8,
      "outputs": [
        {
          "output_type": "stream",
          "name": "stdout",
          "text": [
            "[  4.92207991   2.00492121 -16.04690266]\n"
          ]
        }
      ]
    },
    {
      "cell_type": "code",
      "source": [
        "a_opt, b_opt, c_opt = popt\n",
        "x_model = np.linspace(min(x_data), max(x_data), 300)\n",
        "y_model = func(x_model, a_opt, b_opt, c_opt)"
      ],
      "metadata": {
        "id": "v3dZEGgUgfiQ"
      },
      "execution_count": 20,
      "outputs": []
    },
    {
      "cell_type": "code",
      "source": [
        "plt.scatter(x_data,y_data)\n",
        "plt.plot(x_model,y_model, color='g')\n",
        "plt.show()"
      ],
      "metadata": {
        "colab": {
          "base_uri": "https://localhost:8080/",
          "height": 265
        },
        "id": "XscstwIWgqB_",
        "outputId": "3b0f1d89-2071-4784-aefd-90b069cfb033"
      },
      "execution_count": 19,
      "outputs": [
        {
          "output_type": "display_data",
          "data": {
            "image/png": "[encoded data removed]",
            "text/plain": [
              "<Figure size 432x288 with 1 Axes>"
            ]
          },
          "metadata": {
            "needs_background": "light"
          }
        }
      ]
    }
  ]
}